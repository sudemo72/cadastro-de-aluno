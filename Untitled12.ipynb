{
  "nbformat": 4,
  "nbformat_minor": 0,
  "metadata": {
    "colab": {
      "provenance": [],
      "authorship_tag": "ABX9TyOy/G6fPtR+Cfa3DU0cYi1L",
      "include_colab_link": true
    },
    "kernelspec": {
      "name": "python3",
      "display_name": "Python 3"
    },
    "language_info": {
      "name": "python"
    }
  },
  "cells": [
    {
      "cell_type": "markdown",
      "metadata": {
        "id": "view-in-github",
        "colab_type": "text"
      },
      "source": [
        "<a href=\"https://colab.research.google.com/github/sudemo72/cadastro-de-aluno/blob/main/Untitled12.ipynb\" target=\"_parent\"><img src=\"https://colab.research.google.com/assets/colab-badge.svg\" alt=\"Open In Colab\"/></a>"
      ]
    },
    {
      "cell_type": "markdown",
      "source": [],
      "metadata": {
        "id": "tcxuc5yytgv9"
      }
    },
    {
      "cell_type": "code",
      "source": [
        "produtos = {}\n",
        "\n",
        "\n",
        "while True:\n",
        "    sel_menu = int(input('''Digite o número referente ao menu desejado:\n",
        "    1 - Adicionar produto\n",
        "    2 - Remover produto\n",
        "    3 - Listar produtos\n",
        "    4 - Alterar um produto\n",
        "    5 - Excluir todos os produtos\n",
        "    6 - Sair\n",
        "    '''))\n",
        "\n",
        "    if sel_menu == 1:\n",
        "      while True:\n",
        "          nome_prod = input('\\nDigite o nome do produto que deseja adicionar: ')\n",
        "          preco_prod = input('Digite o preço do produto: ')\n",
        "          if preco_prod.replace('.', '', 1).isdigit():\n",
        "              preco_produto = float(preco_prod)\n",
        "              break\n",
        "          else:\n",
        "              print('Digite apenas números!... Vamos tentar de novo...')\n",
        "      produtos[nome_prod] = preco_produto\n",
        "      print(f'\\nProduto {nome_prod} cujo o valor R${preco_prod} foi adicionado com sucesso!')\n",
        "      add_novamente = input('\\nDeseja adicionar outro produto? (S/N) ').upper()\n",
        "      if add_novamente == 'N':\n",
        "          break\n",
        "\n",
        "\n",
        "\n",
        "    elif sel_menu == 2:\n",
        "        nome_prod = input(<p style=\"font-size: 20px; color: red;\">'Digite o nome do produto que deseja remover:'</p>)\n",
        "        if nome_prod in produtos:\n",
        "            del produtos[nome_prod]\n",
        "            print(f'\\nProduto {nome_prod} removido com sucesso!\\n')\n",
        "        else:\n",
        "            print(f'\\nProduto {nome_prod} não encontrado na lista.\\n')\n",
        "\n",
        "    elif sel_menu == 3:\n",
        "        print('\\nProdutos disponíveis:\\n')\n",
        "        for nome_prod, preco_prod in produtos.items():\n",
        "            print(f'{nome_prod}: R${preco_prod:.2f}')\n",
        "\n",
        "    elif sel_menu == 4:\n",
        "        nome_prod = input('\\nDigite o nome do produto que deseja alterar:\\n')\n",
        "        if nome_prod in produtos:\n",
        "            novo_preco_prod = float(input(f'Digite o novo preço para o produto {nome_prod}: \\n'))\n",
        "            produtos[nome_prod] = novo_preco_prod\n",
        "            print(f'\\nPreço do produto {nome_prod} alterado para R${novo_preco_prod:.2f}!\\n')\n",
        "        else:\n",
        "            print(f'\\nProduto {nome_prod} não encontrado na lista.\\n')\n",
        "\n",
        "    elif sel_menu == 5:\n",
        "        confirmar = input('\\nTem certeza que deseja excluir todos os produtos? (S/N)\\n').upper()\n",
        "        if confirmar == 'S':\n",
        "            produtos.clear()\n",
        "            print('\\nTodos os produtos foram excluídos com sucesso!')\n",
        "\n",
        "    elif sel_menu == 6:\n",
        "        print('\\nSaindo do programa...\\n')\n",
        "        break\n",
        "\n",
        "    else:\n",
        "        print('\\nOpção inválida! Tente novamente.\\n')\n"
      ],
      "metadata": {
        "colab": {
          "base_uri": "https://localhost:8080/",
          "height": 564
        },
        "id": "GUm0_jERtg8T",
        "outputId": "a7e8c86f-f055-4db4-ce70-0b12fb192b93"
      },
      "execution_count": 16,
      "outputs": [
        {
          "name": "stdout",
          "output_type": "stream",
          "text": [
            "Digite o número referente ao menu desejado:\n",
            "    1 - Adicionar produto\n",
            "    2 - Remover produto\n",
            "    3 - Listar produtos\n",
            "    4 - Alterar um produto\n",
            "    5 - Excluir todos os produtos\n",
            "    6 - Sair\n",
            "    1\n"
          ]
        },
        {
          "output_type": "display_data",
          "data": {
            "text/plain": [
              "<IPython.core.display.HTML object>"
            ],
            "text/html": [
              "<span style=\"color: red;\">\n",
              "Digite o nome do produto que deseja adicionar:\n",
              "</span>"
            ]
          },
          "metadata": {}
        },
        {
          "output_type": "error",
          "ename": "KeyboardInterrupt",
          "evalue": "ignored",
          "traceback": [
            "\u001b[0;31m---------------------------------------------------------------------------\u001b[0m",
            "\u001b[0;31mKeyboardInterrupt\u001b[0m                         Traceback (most recent call last)",
            "\u001b[0;32m<ipython-input-16-866ab28e7f3f>\u001b[0m in \u001b[0;36m<cell line: 8>\u001b[0;34m()\u001b[0m\n\u001b[1;32m     18\u001b[0m     \u001b[0;32mif\u001b[0m \u001b[0msel_menu\u001b[0m \u001b[0;34m==\u001b[0m \u001b[0;36m1\u001b[0m\u001b[0;34m:\u001b[0m\u001b[0;34m\u001b[0m\u001b[0;34m\u001b[0m\u001b[0m\n\u001b[1;32m     19\u001b[0m       \u001b[0;32mwhile\u001b[0m \u001b[0;32mTrue\u001b[0m\u001b[0;34m:\u001b[0m\u001b[0;34m\u001b[0m\u001b[0;34m\u001b[0m\u001b[0m\n\u001b[0;32m---> 20\u001b[0;31m           \u001b[0mnome_prod\u001b[0m \u001b[0;34m=\u001b[0m \u001b[0minput\u001b[0m\u001b[0;34m(\u001b[0m\u001b[0;34mf'\\n{display(HTML(text1))} '\u001b[0m\u001b[0;34m)\u001b[0m\u001b[0;34m\u001b[0m\u001b[0;34m\u001b[0m\u001b[0m\n\u001b[0m\u001b[1;32m     21\u001b[0m           \u001b[0mpreco_prod\u001b[0m \u001b[0;34m=\u001b[0m \u001b[0minput\u001b[0m\u001b[0;34m(\u001b[0m\u001b[0;34mf'{display(HTML(text2))}'\u001b[0m\u001b[0;34m)\u001b[0m\u001b[0;34m\u001b[0m\u001b[0;34m\u001b[0m\u001b[0m\n\u001b[1;32m     22\u001b[0m           \u001b[0;32mif\u001b[0m \u001b[0mpreco_prod\u001b[0m\u001b[0;34m.\u001b[0m\u001b[0mreplace\u001b[0m\u001b[0;34m(\u001b[0m\u001b[0;34m'.'\u001b[0m\u001b[0;34m,\u001b[0m \u001b[0;34m''\u001b[0m\u001b[0;34m,\u001b[0m \u001b[0;36m1\u001b[0m\u001b[0;34m)\u001b[0m\u001b[0;34m.\u001b[0m\u001b[0misdigit\u001b[0m\u001b[0;34m(\u001b[0m\u001b[0;34m)\u001b[0m\u001b[0;34m:\u001b[0m\u001b[0;34m\u001b[0m\u001b[0;34m\u001b[0m\u001b[0m\n",
            "\u001b[0;32m/usr/local/lib/python3.10/dist-packages/ipykernel/kernelbase.py\u001b[0m in \u001b[0;36mraw_input\u001b[0;34m(self, prompt)\u001b[0m\n\u001b[1;32m    849\u001b[0m                 \u001b[0;34m\"raw_input was called, but this frontend does not support input requests.\"\u001b[0m\u001b[0;34m\u001b[0m\u001b[0;34m\u001b[0m\u001b[0m\n\u001b[1;32m    850\u001b[0m             )\n\u001b[0;32m--> 851\u001b[0;31m         return self._input_request(str(prompt),\n\u001b[0m\u001b[1;32m    852\u001b[0m             \u001b[0mself\u001b[0m\u001b[0;34m.\u001b[0m\u001b[0m_parent_ident\u001b[0m\u001b[0;34m,\u001b[0m\u001b[0;34m\u001b[0m\u001b[0;34m\u001b[0m\u001b[0m\n\u001b[1;32m    853\u001b[0m             \u001b[0mself\u001b[0m\u001b[0;34m.\u001b[0m\u001b[0m_parent_header\u001b[0m\u001b[0;34m,\u001b[0m\u001b[0;34m\u001b[0m\u001b[0;34m\u001b[0m\u001b[0m\n",
            "\u001b[0;32m/usr/local/lib/python3.10/dist-packages/ipykernel/kernelbase.py\u001b[0m in \u001b[0;36m_input_request\u001b[0;34m(self, prompt, ident, parent, password)\u001b[0m\n\u001b[1;32m    893\u001b[0m             \u001b[0;32mexcept\u001b[0m \u001b[0mKeyboardInterrupt\u001b[0m\u001b[0;34m:\u001b[0m\u001b[0;34m\u001b[0m\u001b[0;34m\u001b[0m\u001b[0m\n\u001b[1;32m    894\u001b[0m                 \u001b[0;31m# re-raise KeyboardInterrupt, to truncate traceback\u001b[0m\u001b[0;34m\u001b[0m\u001b[0;34m\u001b[0m\u001b[0m\n\u001b[0;32m--> 895\u001b[0;31m                 \u001b[0;32mraise\u001b[0m \u001b[0mKeyboardInterrupt\u001b[0m\u001b[0;34m(\u001b[0m\u001b[0;34m\"Interrupted by user\"\u001b[0m\u001b[0;34m)\u001b[0m \u001b[0;32mfrom\u001b[0m \u001b[0;32mNone\u001b[0m\u001b[0;34m\u001b[0m\u001b[0;34m\u001b[0m\u001b[0m\n\u001b[0m\u001b[1;32m    896\u001b[0m             \u001b[0;32mexcept\u001b[0m \u001b[0mException\u001b[0m \u001b[0;32mas\u001b[0m \u001b[0me\u001b[0m\u001b[0;34m:\u001b[0m\u001b[0;34m\u001b[0m\u001b[0;34m\u001b[0m\u001b[0m\n\u001b[1;32m    897\u001b[0m                 \u001b[0mself\u001b[0m\u001b[0;34m.\u001b[0m\u001b[0mlog\u001b[0m\u001b[0;34m.\u001b[0m\u001b[0mwarning\u001b[0m\u001b[0;34m(\u001b[0m\u001b[0;34m\"Invalid Message:\"\u001b[0m\u001b[0;34m,\u001b[0m \u001b[0mexc_info\u001b[0m\u001b[0;34m=\u001b[0m\u001b[0;32mTrue\u001b[0m\u001b[0;34m)\u001b[0m\u001b[0;34m\u001b[0m\u001b[0;34m\u001b[0m\u001b[0m\n",
            "\u001b[0;31mKeyboardInterrupt\u001b[0m: Interrupted by user"
          ]
        }
      ]
    }
  ]
}