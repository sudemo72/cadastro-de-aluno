{
  "nbformat": 4,
  "nbformat_minor": 0,
  "metadata": {
    "colab": {
      "provenance": []
    },
    "kernelspec": {
      "name": "python3",
      "display_name": "Python 3"
    },
    "language_info": {
      "name": "python"
    }
  },
  "cells": [
    {
      "cell_type": "code",
      "execution_count": null,
      "metadata": {
        "colab": {
          "base_uri": "https://localhost:8080/"
        },
        "id": "Pbhisj1CWMZ9",
        "outputId": "6d8cb4c9-237a-4d26-c4d2-0c9cbd380e31"
      },
      "outputs": [
        {
          "name": "stdout",
          "output_type": "stream",
          "text": [
            "\n",
            "Informe o número da ação desejada:\n",
            "1- Para adicionar um aluno\n",
            "2- Para excluir um aluno\n",
            "3- Para atualizar um aluno\n",
            "4- Para ver a lista de alunos\n",
            "5- Para sair\n",
            "1\n",
            "Informe o nome do aluno: rodrigo\n",
            "\n",
            "Informe o número da ação desejada:\n",
            "1- Para adicionar um aluno\n",
            "2- Para excluir um aluno\n",
            "3- Para atualizar um aluno\n",
            "4- Para ver a lista de alunos\n",
            "5- Para sair\n",
            "2\n",
            "Informe o nome do aluno que deseja excluir: renata\n",
            "Aluno não cadastrado.\n",
            "\n",
            "Informe o número da ação desejada:\n",
            "1- Para adicionar um aluno\n",
            "2- Para excluir um aluno\n",
            "3- Para atualizar um aluno\n",
            "4- Para ver a lista de alunos\n",
            "5- Para sair\n",
            "2\n",
            "Informe o nome do aluno que deseja excluir: rodrigo\n",
            "rodrigo excluído com sucesso.\n",
            "\n",
            "Informe o número da ação desejada:\n",
            "1- Para adicionar um aluno\n",
            "2- Para excluir um aluno\n",
            "3- Para atualizar um aluno\n",
            "4- Para ver a lista de alunos\n",
            "5- Para sair\n",
            "3\n",
            "Informe o nome do aluno que deseja atualizar: rodrigo\n",
            "Aluno não cadastrado.\n",
            "\n",
            "Informe o número da ação desejada:\n",
            "1- Para adicionar um aluno\n",
            "2- Para excluir um aluno\n",
            "3- Para atualizar um aluno\n",
            "4- Para ver a lista de alunos\n",
            "5- Para sair\n",
            "1\n",
            "Informe o nome do aluno: rodrigo\n",
            "\n",
            "Informe o número da ação desejada:\n",
            "1- Para adicionar um aluno\n",
            "2- Para excluir um aluno\n",
            "3- Para atualizar um aluno\n",
            "4- Para ver a lista de alunos\n",
            "5- Para sair\n",
            "4\n",
            "['rodrigo']\n",
            "\n",
            "Informe o número da ação desejada:\n",
            "1- Para adicionar um aluno\n",
            "2- Para excluir um aluno\n",
            "3- Para atualizar um aluno\n",
            "4- Para ver a lista de alunos\n",
            "5- Para sair\n",
            "5\n"
          ]
        }
      ],
      "source": [
        "sala = []\n",
        "while True:\n",
        "    #Comando de repetição \n",
        "    aluno = int(input('''\\nInforme o número da ação desejada:\\n1- Para adicionar um aluno\\n2- Para excluir um aluno\\n3- Para atualizar um aluno\\n4- Para ver a lista de alunos\\n5- Para sair\\n'''))\n",
        "    if aluno == 1:\n",
        "      #opão 1 Para adcionar um Aluno a Lista\n",
        "        nome = input(\"Informe o nome do aluno: \")\n",
        "        sala.append(nome)\n",
        "    elif aluno == 2:\n",
        "        nome = input(\"Informe o nome do aluno que deseja excluir: \")\n",
        "        if nome in sala:\n",
        "            sala.remove(nome)\n",
        "            print(f'{nome} excluído com sucesso.')\n",
        "        else:\n",
        "            print('Aluno não cadastrado.')\n",
        "    elif aluno == 3:\n",
        "      #Para excluir um aluno\n",
        "        nome = input('Informe o nome do aluno que deseja atualizar: ')\n",
        "        if nome in sala:\n",
        "            index = sala.index(nome)\n",
        "            novo_nome = input('Informe o novo nome do aluno: ')\n",
        "            sala[index] = novo_nome\n",
        "            print(f'{nome} atualizado para {novo_nome}.')\n",
        "        else:\n",
        "            print('Aluno não cadastrado.')\n",
        "    elif aluno == 4:\n",
        "      #Para ver a lista de alunos\n",
        "        print(sala)\n",
        "    elif aluno == 5:\n",
        "      #Para sair\n",
        "        break\n",
        "    else:\n",
        "        print(\"Opção inválida.\")\n"
      ]
    }
  ]
}